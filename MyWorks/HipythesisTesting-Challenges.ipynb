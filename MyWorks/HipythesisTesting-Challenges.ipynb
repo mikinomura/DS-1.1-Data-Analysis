{
 "cells": [
  {
   "cell_type": "code",
   "execution_count": 6,
   "metadata": {},
   "outputs": [
    {
     "data": {
      "text/plain": [
       "6.341274328352063e-60"
      ]
     },
     "execution_count": 6,
     "metadata": {},
     "output_type": "execute_result"
    }
   ],
   "source": [
    "# Scenario 1: Website Design Change\n",
    "## Did the website change caused a jump?\n",
    "import numpy as np\n",
    "import scipy\n",
    "from scipy.stats.distributions import norm\n",
    "\n",
    "purchase_mean = 22.62\n",
    "sample_deviation = 4.22\n",
    "n = 100\n",
    "sigma = sample_deviation / 10\n",
    "z_value = (15.73 - purchase_mean) / sigma\n",
    "p_value = 2*norm.cdf(-np.abs(z_value))\n",
    "p_value\n",
    "\n",
    "# Number is too big"
   ]
  },
  {
   "cell_type": "code",
   "execution_count": null,
   "metadata": {},
   "outputs": [],
   "source": []
  },
  {
   "cell_type": "code",
   "execution_count": 10,
   "metadata": {},
   "outputs": [
    {
     "name": "stdout",
     "output_type": "stream",
     "text": [
      "reject null hypothesis: the new ad has a impact on the performance\n"
     ]
    }
   ],
   "source": [
    "# Scenario 2:  Advertising Campaign\n",
    "# Hyphothesis: New ad better?\n",
    "ctr_bar = 0.42\n",
    "ctr_mean = 0.55\n",
    "s = 0.06\n",
    "n = 10000\n",
    "significant_level = 0.05\n",
    "\n",
    "z_score = (ctr_bar - ctr_mean) / (s/100)\n",
    "z_score\n",
    "p = scipy.stats.norm.sf(abs(z_score))*2\n",
    "\n",
    "if p < significant_level:\n",
    "    print('reject null hypothesis: the new ad has an impact on the performance')\n",
    "else:\n",
    "    print('accept null hypothesis: the new ad does not have an impact on the performance')"
   ]
  },
  {
   "cell_type": "code",
   "execution_count": 13,
   "metadata": {},
   "outputs": [
    {
     "name": "stdout",
     "output_type": "stream",
     "text": [
      "reject null hypothesis: the new incentive has an impact on the performance\n"
     ]
    },
    {
     "data": {
      "text/plain": [
       "0.0"
      ]
     },
     "execution_count": 13,
     "metadata": {},
     "output_type": "execute_result"
    }
   ],
   "source": [
    "# Scenario 3: Reducing Churn Rate\n",
    "# the new incentive has an impact on the churn rate?\n",
    "churn_mean = 0.15\n",
    "\n",
    "n = 123422\n",
    "total_left = 10076\n",
    "churn_bar = total_left / n\n",
    "\n",
    "alpha = 0.01\n",
    "\n",
    "variance = total_left / n\n",
    "standard_deviation = np.sqrt(variance)\n",
    "\n",
    "z_score = (churn_bar - churn_mean)/ (standard_deviation / np.sqrt(n))\n",
    "p_value = scipy.stats.norm.sf(abs(z_score))*2\n",
    "\n",
    "\n",
    "\n",
    "if p_value < alpha:\n",
    "    print('reject null hypothesis: the new incentive has an impact on the performance')\n",
    "else:\n",
    "    print('accept null hypothesis: the new incentive does not have an impact on the performance')\n",
    "    \n",
    "p_value"
   ]
  },
  {
   "cell_type": "code",
   "execution_count": null,
   "metadata": {},
   "outputs": [],
   "source": []
  }
 ],
 "metadata": {
  "kernelspec": {
   "display_name": "Python 3",
   "language": "python",
   "name": "python3"
  },
  "language_info": {
   "codemirror_mode": {
    "name": "ipython",
    "version": 3
   },
   "file_extension": ".py",
   "mimetype": "text/x-python",
   "name": "python",
   "nbconvert_exporter": "python",
   "pygments_lexer": "ipython3",
   "version": "3.6.5"
  }
 },
 "nbformat": 4,
 "nbformat_minor": 2
}
