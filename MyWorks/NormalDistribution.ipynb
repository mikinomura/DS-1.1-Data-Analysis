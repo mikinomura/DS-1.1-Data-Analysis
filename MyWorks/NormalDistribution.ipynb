{
 "cells": [
  {
   "cell_type": "code",
   "execution_count": 3,
   "metadata": {
    "scrolled": true,
    "slideshow": {
     "slide_type": "skip"
    }
   },
   "outputs": [
    {
     "data": {
      "text/plain": [
       "(array([1019.,  915., 1000., 1024.,  973.,  979., 1057., 1014., 1039.,\n",
       "         980.]),\n",
       " array([ 0. ,  9.9, 19.8, 29.7, 39.6, 49.5, 59.4, 69.3, 79.2, 89.1, 99. ]),\n",
       " <a list of 10 Patch objects>)"
      ]
     },
     "execution_count": 3,
     "metadata": {},
     "output_type": "execute_result"
    },
    {
     "data": {
      "image/png": "[encoded data removed]",
      "text/plain": [
       "<Figure size 432x288 with 1 Axes>"
      ]
     },
     "metadata": {},
     "output_type": "display_data"
    }
   ],
   "source": [
    "import numpy as np\n",
    "import pandas as pd\n",
    "import matplotlib.pyplot as plt\n",
    "%matplotlib inline\n",
    "\n",
    "np.random.seed(1547)\n",
    "\n",
    "non_normal_data = np.random.randint(low=0, high=100, size=10000)\n",
    "plt.hist(non_normal_data)"
   ]
  },
  {
   "cell_type": "code",
   "execution_count": 10,
   "metadata": {
    "slideshow": {
     "slide_type": "slide"
    }
   },
   "outputs": [],
   "source": [
    "def get_sample(dataset, n=30):\n",
    "    subdataset = np.random.choice(dataset, n)\n",
    "    return subdataset.mean()"
   ]
  },
  {
   "cell_type": "code",
   "execution_count": 11,
   "metadata": {
    "slideshow": {
     "slide_type": "skip"
    }
   },
   "outputs": [
    {
     "data": {
      "text/plain": [
       "46.36666666666667"
      ]
     },
     "execution_count": 11,
     "metadata": {},
     "output_type": "execute_result"
    }
   ],
   "source": [
    "get_sample(non_normal_data)"
   ]
  },
  {
   "cell_type": "code",
   "execution_count": 14,
   "metadata": {
    "slideshow": {
     "slide_type": "skip"
    }
   },
   "outputs": [
    {
     "data": {
      "text/plain": [
       "[52.166666666666664,\n",
       " 60.3,\n",
       " 49.06666666666667,\n",
       " 51.53333333333333,\n",
       " 49.06666666666667,\n",
       " 49.43333333333333,\n",
       " 49.43333333333333,\n",
       " 45.233333333333334,\n",
       " 54.0,\n",
       " 47.5,\n",
       " 41.6,\n",
       " 54.96666666666667,\n",
       " 48.36666666666667,\n",
       " 46.43333333333333,\n",
       " 42.6,\n",
       " 44.9,\n",
       " 42.6,\n",
       " 49.766666666666666,\n",
       " 45.7,\n",
       " 48.833333333333336,\n",
       " 41.93333333333333,\n",
       " 51.733333333333334,\n",
       " 49.6,\n",
       " 50.833333333333336,\n",
       " 49.733333333333334,\n",
       " 51.333333333333336,\n",
       " 53.56666666666667,\n",
       " 45.6,\n",
       " 46.46666666666667,\n",
       " 41.666666666666664,\n",
       " 51.5,\n",
       " 47.86666666666667,\n",
       " 42.96666666666667,\n",
       " 55.06666666666667,\n",
       " 42.46666666666667,\n",
       " 45.13333333333333,\n",
       " 51.766666666666666,\n",
       " 50.6,\n",
       " 49.46666666666667,\n",
       " 47.6,\n",
       " 48.166666666666664,\n",
       " 37.833333333333336,\n",
       " 47.233333333333334,\n",
       " 50.96666666666667,\n",
       " 54.6,\n",
       " 46.0,\n",
       " 41.8,\n",
       " 44.3,\n",
       " 44.9,\n",
       " 43.666666666666664,\n",
       " 55.4,\n",
       " 47.233333333333334,\n",
       " 53.6,\n",
       " 53.36666666666667,\n",
       " 45.63333333333333,\n",
       " 41.96666666666667,\n",
       " 46.56666666666667,\n",
       " 42.833333333333336,\n",
       " 44.5,\n",
       " 55.233333333333334,\n",
       " 44.8,\n",
       " 54.733333333333334,\n",
       " 61.36666666666667,\n",
       " 60.63333333333333,\n",
       " 50.166666666666664,\n",
       " 46.1,\n",
       " 51.833333333333336,\n",
       " 49.03333333333333,\n",
       " 39.86666666666667,\n",
       " 58.9,\n",
       " 52.96666666666667,\n",
       " 50.9,\n",
       " 49.06666666666667,\n",
       " 52.3,\n",
       " 52.266666666666666,\n",
       " 44.46666666666667,\n",
       " 49.233333333333334,\n",
       " 45.6,\n",
       " 41.7,\n",
       " 53.13333333333333,\n",
       " 50.3,\n",
       " 62.43333333333333,\n",
       " 53.53333333333333,\n",
       " 47.6,\n",
       " 45.0,\n",
       " 50.233333333333334,\n",
       " 50.6,\n",
       " 48.833333333333336,\n",
       " 47.2,\n",
       " 52.13333333333333,\n",
       " 52.5,\n",
       " 43.766666666666666,\n",
       " 64.56666666666666,\n",
       " 38.2,\n",
       " 47.1,\n",
       " 46.9,\n",
       " 40.36666666666667,\n",
       " 52.8,\n",
       " 45.53333333333333]"
      ]
     },
     "execution_count": 14,
     "metadata": {},
     "output_type": "execute_result"
    }
   ],
   "source": [
    "def create_sample_distribution(dataset, size=100):\n",
    "    subdata_mean_array = []\n",
    "    for i in range(size-1):\n",
    "        subdata_mean_array.append(get_sample(dataset))\n",
    "    return subdata_mean_array\n",
    "\n",
    "create_sample_distribution(non_normal_data)"
   ]
  },
  {
   "cell_type": "code",
   "execution_count": 1,
   "metadata": {
    "scrolled": false,
    "slideshow": {
     "slide_type": "slide"
    }
   },
   "outputs": [
    {
     "ename": "NameError",
     "evalue": "name 'plt' is not defined",
     "output_type": "error",
     "traceback": [
      "\u001b[0;31m---------------------------------------------------------------------------\u001b[0m",
      "\u001b[0;31mNameError\u001b[0m                                 Traceback (most recent call last)",
      "\u001b[0;32m<ipython-input-1-11b8e1974fcf>\u001b[0m in \u001b[0;36m<module>\u001b[0;34m()\u001b[0m\n\u001b[1;32m      1\u001b[0m \u001b[0;31m#  visualize it to determine if it's a normal distribution.\u001b[0m\u001b[0;34m\u001b[0m\u001b[0;34m\u001b[0m\u001b[0m\n\u001b[0;32m----> 2\u001b[0;31m \u001b[0mplt\u001b[0m\u001b[0;34m.\u001b[0m\u001b[0mhist\u001b[0m\u001b[0;34m(\u001b[0m\u001b[0mcreate_sample_distribution\u001b[0m\u001b[0;34m(\u001b[0m\u001b[0mnon_normal_data\u001b[0m\u001b[0;34m)\u001b[0m\u001b[0;34m)\u001b[0m\u001b[0;34m\u001b[0m\u001b[0m\n\u001b[0m",
      "\u001b[0;31mNameError\u001b[0m: name 'plt' is not defined"
     ]
    }
   ],
   "source": [
    "#  visualize it to determine if it's a normal distribution.\n",
    "plt.hist(create_sample_distribution(non_normal_data))"
   ]
  },
  {
   "cell_type": "code",
   "execution_count": null,
   "metadata": {},
   "outputs": [],
   "source": []
  },
  {
   "cell_type": "code",
   "execution_count": null,
   "metadata": {},
   "outputs": [],
   "source": []
  }
 ],
 "metadata": {
  "celltoolbar": "Slideshow",
  "kernelspec": {
   "display_name": "Python 3",
   "language": "python",
   "name": "python3"
  },
  "language_info": {
   "codemirror_mode": {
    "name": "ipython",
    "version": 3
   },
   "file_extension": ".py",
   "mimetype": "text/x-python",
   "name": "python",
   "nbconvert_exporter": "python",
   "pygments_lexer": "ipython3",
   "version": "3.6.5"
  }
 },
 "nbformat": 4,
 "nbformat_minor": 2
}
