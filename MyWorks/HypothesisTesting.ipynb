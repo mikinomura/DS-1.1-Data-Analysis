{
 "cells": [
  {
   "cell_type": "code",
   "execution_count": 2,
   "metadata": {},
   "outputs": [
    {
     "data": {
      "text/plain": [
       "0.0026997960632601866"
      ]
     },
     "execution_count": 2,
     "metadata": {},
     "output_type": "execute_result"
    }
   ],
   "source": [
    "import numpy as np\n",
    "import scipy\n",
    "from scipy.stats.distributions import norm\n",
    "\n",
    "z_value = 3\n",
    "p_value = 2*norm.cdf(-np.abs(z_value))\n",
    "p_value"
   ]
  },
  {
   "cell_type": "code",
   "execution_count": 6,
   "metadata": {},
   "outputs": [],
   "source": [
    "import numpy as np\n",
    "import scipy\n",
    "from scipy.stats.distributions import norm\n",
    "from scipy import stats\n",
    "import math\n",
    "\n",
    "# T score\n",
    "x = [177.3, 182.7, 169.6, 176.3, 180.3, 179.4, 178.5, 177.2, 181.8, 176.5]\n",
    "mu = 175.3\n",
    "x_mean = np.array(x).mean()\n",
    "\n",
    "# for T score, we should set ddof = 1 (math reason behind)\n",
    "standard_deviation = np.std(x, ddof=1)\n",
    "\n",
    "t_score = (x_mean - mu) / (standard_deviation / math.sqrt(len(x)))"
   ]
  },
  {
   "cell_type": "code",
   "execution_count": 4,
   "metadata": {},
   "outputs": [],
   "source": [
    "# Task: write a function the takes the mean of population and the samples as the input argument \n",
    "# then decide to reject ot accept the null hypothjessis \n",
    "def accept_or_reject_null_hypothesis(data_sample, mu, significant_level):\n",
    "    z = (np.array(x).mean()-mu)/ np.std(data_sample)/np.sqrt(len(data_sample))\n",
    "    p_value = 2*norm.cdf(-np.abs(z_value))\n",
    "    if p_value < significant_level:\n",
    "        print('reject null hypothesis')\n",
    "    else:\n",
    "        print('accept null hypothesis')\n",
    "                                                            "
   ]
  },
  {
   "cell_type": "code",
   "execution_count": null,
   "metadata": {},
   "outputs": [],
   "source": []
  }
 ],
 "metadata": {
  "kernelspec": {
   "display_name": "Python 3",
   "language": "python",
   "name": "python3"
  },
  "language_info": {
   "codemirror_mode": {
    "name": "ipython",
    "version": 3
   },
   "file_extension": ".py",
   "mimetype": "text/x-python",
   "name": "python",
   "nbconvert_exporter": "python",
   "pygments_lexer": "ipython3",
   "version": "3.6.5"
  }
 },
 "nbformat": 4,
 "nbformat_minor": 2
}
